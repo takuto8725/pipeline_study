{
  "cells": [
    {
      "cell_type": "code",
      "source": [
        "## Pipelineを用いたベースラインモデルの簡単な作り方 ##\n",
        "# Kaggleの Housing Prices Competitions for Kaggle learn users のデータを使用して\\\n",
        "# Pipeline の使い方を学んでいきます。Pipeline を使えば複雑なコードの可読性を高めることができるので、\\\n",
        "# モデルの変更やimputerの変更が容易になり、前処理の生産性を上げることができます。\\\n",
        "#\n",
        "# まずは必要なパッケージを読み込みます。\n"
      ],
      "outputs": [],
      "execution_count": null,
      "metadata": {
        "collapsed": false,
        "jupyter": {
          "source_hidden": false,
          "outputs_hidden": false
        },
        "nteract": {
          "transient": {
            "deleting": false
          }
        }
      }
    },
    {
      "cell_type": "code",
      "source": [
        "from sklearn.compose import ColumnTransformer\n",
        "from sklearn.pipeline import Pipeline\n",
        "from sklearn.impute import SimpleImputer\n",
        "from sklearn.preprocessing import OneHotEncoder\n"
      ],
      "outputs": [],
      "execution_count": null,
      "metadata": {
        "collapsed": false,
        "jupyter": {
          "source_hidden": false,
          "outputs_hidden": false
        },
        "nteract": {
          "transient": {
            "deleting": false
          }
        }
      }
    },
    {
      "cell_type": "code",
      "source": [
        "# 次にデータを読み込みます。ここではId列で添字付けられた各住宅に関する80の特徴量（床面積、車庫の有無、築年数など）\\\n",
        "# が格納されたテーブルデータを用います。このコンペではこれらの特徴量を用いて各住宅の住宅価格を推定することが目的となります。\\\n",
        "# 使用するデータのshapeは訓練データ(1460 x 81)、テストデータ(1459 x 80)となります。target変数は住宅価格である SalePrice です。\\\n",
        "# 訓練データをtrain、テストデータをtestとして読み込みます。\n"
      ],
      "outputs": [],
      "execution_count": null,
      "metadata": {
        "collapsed": false,
        "jupyter": {
          "source_hidden": false,
          "outputs_hidden": false
        },
        "nteract": {
          "transient": {
            "deleting": false
          }
        }
      }
    },
    {
      "cell_type": "code",
      "source": [
        "import pandas as pd\n",
        "\n",
        "train = pd.read_csv('~/Downloads/kaggle_house/train.csv')\n",
        "test = pd.read_csv('~/Downloads/kaggle_house/test.csv')\n"
      ],
      "outputs": [],
      "execution_count": null,
      "metadata": {
        "collapsed": false,
        "jupyter": {
          "source_hidden": false,
          "outputs_hidden": false
        },
        "nteract": {
          "transient": {
            "deleting": false
          }
        }
      }
    },
    {
      "cell_type": "code",
      "source": [
        "train.head()"
      ],
      "outputs": [],
      "execution_count": null,
      "metadata": {
        "collapsed": false,
        "jupyter": {
          "source_hidden": false,
          "outputs_hidden": false
        },
        "nteract": {
          "transient": {
            "deleting": false
          }
        }
      }
    },
    {
      "cell_type": "code",
      "source": [
        "test.head()"
      ],
      "outputs": [],
      "execution_count": null,
      "metadata": {
        "collapsed": false,
        "jupyter": {
          "source_hidden": false,
          "outputs_hidden": false
        },
        "nteract": {
          "transient": {
            "deleting": false
          }
        }
      }
    },
    {
      "cell_type": "code",
      "source": [
        "# yに目的変数であるSalePriceを、Xに特徴量を格納します。\n",
        "\n",
        "y = train.SalePrice\n",
        "X = train.drop(['SalePrice'], axis=1)\n"
      ],
      "outputs": [],
      "execution_count": null,
      "metadata": {
        "collapsed": false,
        "jupyter": {
          "source_hidden": false,
          "outputs_hidden": false
        },
        "nteract": {
          "transient": {
            "deleting": false
          }
        }
      }
    },
    {
      "cell_type": "code",
      "source": [
        "# カテゴリ変数と数値変数のコラム名を取得します。\n",
        "\n",
        "cat_cols = [cname for cname in X.columns if X[cname].dtype == 'object']\n",
        "num_cols = [cname for cname in X.columns if X[cname].dtype in ['int64', 'float64']]\n"
      ],
      "outputs": [],
      "execution_count": null,
      "metadata": {
        "collapsed": false,
        "jupyter": {
          "source_hidden": false,
          "outputs_hidden": false
        },
        "nteract": {
          "transient": {
            "deleting": false
          }
        }
      }
    },
    {
      "cell_type": "code",
      "source": [
        "# ここでpipelineの前処理を定義していきます。数値変数の欠損値はSimpleImputerを用いて中央値で補完し、\\\n",
        "# カテゴリ変数の欠損値補完には最頻値を、エンコーディングにはOneHotEncoderを用いることにします。pipelineを用いれば\\\n",
        "# カテゴリ変数のimputerとencoderをシンプルに記述出来ることがわかります。\n",
        "\n",
        "num_imputer = SimpleImputer(strategy='median')\n",
        "cat_transformer = Pipeline(steps=[\n",
        "    ('imputer', SimpleImputer(strategy='most_frequent')),\n",
        "    ('onehot', OneHotEncoder(handle_unknown='ignore'))\n",
        "])\n",
        "\n",
        "# preprocessorに数値変数とカテゴリ変数に対して施した前処理の定義を渡します。この短いコードで前処理で何をしたのか\\\n",
        "# 一目でわかるようになります。\n",
        "\n",
        "preprocessor = ColumnTransformer(\n",
        "    transformers=[\n",
        "        ('num', num_imputer, num_cols),\n",
        "        ('cat', cat_transformer, cat_cols)\n",
        "    ]\n",
        ")\n"
      ],
      "outputs": [],
      "execution_count": null,
      "metadata": {
        "collapsed": false,
        "jupyter": {
          "source_hidden": false,
          "outputs_hidden": false
        },
        "nteract": {
          "transient": {
            "deleting": false
          }
        }
      }
    },
    {
      "cell_type": "code",
      "source": [
        "# モデルの定義です。今回はxgboostを使用することにします。もちろんlightgbmでも構いません。\n",
        "\n",
        "from xgboost import XGBRegressor\n",
        "xgb_model = XGBRegressor(n_estimators=1000, learning_rate=0.04,\n",
        "                         n_jobs=4)\n"
      ],
      "outputs": [],
      "execution_count": null,
      "metadata": {
        "collapsed": false,
        "jupyter": {
          "source_hidden": false,
          "outputs_hidden": false
        },
        "nteract": {
          "transient": {
            "deleting": false
          }
        }
      }
    },
    {
      "cell_type": "code",
      "source": [
        "# pipeline に構築した前処理とモデルを格納します。これでベースラインモデルの完成です。\n",
        "\n",
        "my_pipeline = Pipeline(steps=[\n",
        "    ('preprocessor', preprocessor),\n",
        "    ('model', xgb_model)\n",
        "])\n"
      ],
      "outputs": [],
      "execution_count": null,
      "metadata": {
        "collapsed": false,
        "jupyter": {
          "source_hidden": false,
          "outputs_hidden": false
        },
        "nteract": {
          "transient": {
            "deleting": false
          }
        }
      }
    },
    {
      "cell_type": "code",
      "source": [
        "# 試しにスコア(mean absolute error)を見てみます。pipelineを用いればシンプルに\\\n",
        "# クロスバリデーションのコードが記述出来ることが見て取れます。\n",
        "\n",
        "from sklearn.model_selection import cross_val_score\n",
        "\n",
        "scores = -1 * cross_val_score(my_pipeline, X, y,\n",
        "                              cv=5,\n",
        "                              scoring='neg_mean_absolute_error')\n",
        "\n",
        "print(scores)\n",
        "print(scores.mean())"
      ],
      "outputs": [],
      "execution_count": null,
      "metadata": {
        "collapsed": false,
        "jupyter": {
          "source_hidden": false,
          "outputs_hidden": false
        },
        "nteract": {
          "transient": {
            "deleting": false
          }
        }
      }
    }
  ],
  "metadata": {},
  "nbformat": 4,
  "nbformat_minor": 0
}